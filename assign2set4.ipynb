{
 "cells": [
  {
   "cell_type": "markdown",
   "id": "a00ad2f8",
   "metadata": {},
   "source": [
    "#### 3.\tAuditors at a small community bank randomly sample 100 withdrawal transactions made during the week at an ATM machine located near the bank’s main branch. Over the past 2 years, the average withdrawal amount has been \\\\$50 with a standard deviation of \\\\$40. Since audit investigations are typically expensive, the auditors decide to not initiate further investigations if the mean transaction amount of the sample is between \\\\$45 and $55. What is the probability that in any given week, there will be an investigation?"
   ]
  },
  {
   "cell_type": "code",
   "execution_count": 1,
   "id": "a3db649a",
   "metadata": {},
   "outputs": [
    {
     "data": {
      "text/plain": [
       "-1.25"
      ]
     },
     "execution_count": 1,
     "metadata": {},
     "output_type": "execute_result"
    }
   ],
   "source": [
    "P_mean=50\n",
    "std=40\n",
    "n=100\n",
    "(45-P_mean)/(std/n**0.5)"
   ]
  },
  {
   "cell_type": "code",
   "execution_count": 2,
   "id": "0ec2e308",
   "metadata": {},
   "outputs": [
    {
     "data": {
      "text/plain": [
       "1.25"
      ]
     },
     "execution_count": 2,
     "metadata": {},
     "output_type": "execute_result"
    }
   ],
   "source": [
    "(55-P_mean)/(std/n**0.5)"
   ]
  },
  {
   "cell_type": "code",
   "execution_count": 3,
   "id": "f5ddda3f",
   "metadata": {},
   "outputs": [
    {
     "data": {
      "text/plain": [
       "0.7887004526662893"
      ]
     },
     "execution_count": 3,
     "metadata": {},
     "output_type": "execute_result"
    }
   ],
   "source": [
    "from scipy import stats\n",
    "stats.norm.cdf(1.25)-stats.norm.cdf(-1.25)  #P(−1.25<Z<1.25)"
   ]
  },
  {
   "cell_type": "code",
   "execution_count": 4,
   "id": "b882cd06",
   "metadata": {},
   "outputs": [
    {
     "data": {
      "text/plain": [
       "21.130000000000003"
      ]
     },
     "execution_count": 4,
     "metadata": {},
     "output_type": "execute_result"
    }
   ],
   "source": [
    "(1-0.7887)*100   #P(Z<−1.25 or Z>1.25)=1−P(−1.25<Z<1.25)"
   ]
  },
  {
   "cell_type": "markdown",
   "id": "57351a35",
   "metadata": {},
   "source": [
    "#### 4.\tThe auditors from the above example would like to maintain the probability of investigation to 5%. Which of the following represents the minimum number transactions that they should sample if they do not want to change the thresholds of 45 and 55? Assume that the sample statistics remain unchanged."
   ]
  },
  {
   "cell_type": "code",
   "execution_count": 14,
   "id": "c2c396fc",
   "metadata": {},
   "outputs": [
    {
     "data": {
      "text/plain": [
       "-1.9599639845400545"
      ]
     },
     "execution_count": 14,
     "metadata": {},
     "output_type": "execute_result"
    }
   ],
   "source": [
    "P_mean=50\n",
    "std=40\n",
    "confidence=0.05\n",
    "z=stats.norm.ppf(confidence/2)\n",
    "z"
   ]
  },
  {
   "cell_type": "code",
   "execution_count": 19,
   "id": "93e2c529",
   "metadata": {},
   "outputs": [
    {
     "data": {
      "text/plain": [
       "245.85336452442414"
      ]
     },
     "execution_count": 19,
     "metadata": {},
     "output_type": "execute_result"
    }
   ],
   "source": [
    "n=((std*z)/(P_mean-45))**2\n",
    "n"
   ]
  },
  {
   "cell_type": "code",
   "execution_count": null,
   "id": "9ee5ca61",
   "metadata": {},
   "outputs": [],
   "source": []
  }
 ],
 "metadata": {
  "kernelspec": {
   "display_name": "Python 3 (ipykernel)",
   "language": "python",
   "name": "python3"
  },
  "language_info": {
   "codemirror_mode": {
    "name": "ipython",
    "version": 3
   },
   "file_extension": ".py",
   "mimetype": "text/x-python",
   "name": "python",
   "nbconvert_exporter": "python",
   "pygments_lexer": "ipython3",
   "version": "3.11.5"
  }
 },
 "nbformat": 4,
 "nbformat_minor": 5
}
